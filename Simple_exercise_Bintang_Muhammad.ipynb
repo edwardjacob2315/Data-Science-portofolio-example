{
 "cells": [
  {
   "cell_type": "markdown",
   "metadata": {},
   "source": [
    "# Simple Exercise"
   ]
  },
  {
   "cell_type": "code",
   "execution_count": 227,
   "metadata": {},
   "outputs": [],
   "source": [
    "import pandas as pd\n",
    "import datetime as dt\n",
    "import calendar\n",
    "import matplotlib.dates as mdates\n",
    "import seaborn as sns\n",
    "import matplotlib.pyplot as plt\n",
    "import numpy as np"
   ]
  },
  {
   "cell_type": "markdown",
   "metadata": {},
   "source": [
    "tes perubahan"
   ]
  },
  {
   "cell_type": "code",
   "execution_count": 228,
   "metadata": {},
   "outputs": [],
   "source": [
    "df=pd.read_excel('Caller and Agent Data.xls')"
   ]
  },
  {
   "cell_type": "code",
   "execution_count": 260,
   "metadata": {},
   "outputs": [
    {
     "name": "stdout",
     "output_type": "stream",
     "text": [
      "<class 'pandas.core.frame.DataFrame'>\n",
      "RangeIndex: 336 entries, 0 to 335\n",
      "Data columns (total 7 columns):\n",
      " #   Column    Non-Null Count  Dtype         \n",
      "---  ------    --------------  -----         \n",
      " 0   date      336 non-null    datetime64[ns]\n",
      " 1   time      336 non-null    int64         \n",
      " 2   eyeballs  336 non-null    int64         \n",
      " 3   zeroes    336 non-null    int64         \n",
      " 4   calls     336 non-null    int64         \n",
      " 5   requests  336 non-null    int64         \n",
      " 6   agents    336 non-null    int64         \n",
      "dtypes: datetime64[ns](1), int64(6)\n",
      "memory usage: 18.5 KB\n"
     ]
    }
   ],
   "source": [
    "df.info()"
   ]
  },
  {
   "cell_type": "code",
   "execution_count": 229,
   "metadata": {},
   "outputs": [
    {
     "name": "stdout",
     "output_type": "stream",
     "text": [
      "<class 'pandas.core.frame.DataFrame'>\n",
      "RangeIndex: 336 entries, 0 to 335\n",
      "Data columns (total 7 columns):\n",
      " #   Column           Non-Null Count  Dtype         \n",
      "---  ------           --------------  -----         \n",
      " 0   Date             336 non-null    datetime64[ns]\n",
      " 1   Time (Local)     336 non-null    int64         \n",
      " 2   Eyeballs         336 non-null    int64         \n",
      " 3   Zeroes           336 non-null    int64         \n",
      " 4   Completed Calls  336 non-null    int64         \n",
      " 5   Requests         336 non-null    int64         \n",
      " 6   Unique Agents    336 non-null    int64         \n",
      "dtypes: datetime64[ns](1), int64(6)\n",
      "memory usage: 18.5 KB\n"
     ]
    }
   ],
   "source": [
    "df.info()"
   ]
  },
  {
   "cell_type": "markdown",
   "metadata": {},
   "source": [
    "- Date = Date of call\n",
    "- Time (Local)= The start of the hour \n",
    "- Eyeballs = People who opens the call center app\n",
    "- Zeroes = how many people did not see agent at that time\n",
    "- Requests = how many people request a call\n",
    "- Completed_Calls = Call that succeed\n",
    "- Unque Agents = agents that available that time\n",
    "\n",
    "11 people opened the call center app (Eyeballs). \n",
    "2 of them did not see any agents (Zeroes), and \n",
    "4 of them requested a call (Requests). \n",
    "Of the 4 Requests, only 3 complete calls actually resulted (Completed). \n",
    "During this time, there were a total of 6 call center agents who logged in (Unique Agents).\n"
   ]
  },
  {
   "cell_type": "code",
   "execution_count": 230,
   "metadata": {},
   "outputs": [
    {
     "data": {
      "text/plain": [
       "Index(['Date', 'Time (Local)', 'Eyeballs ', 'Zeroes ', 'Completed Calls',\n",
       "       'Requests ', 'Unique Agents'],\n",
       "      dtype='object')"
      ]
     },
     "execution_count": 230,
     "metadata": {},
     "output_type": "execute_result"
    }
   ],
   "source": [
    "df.columns"
   ]
  },
  {
   "cell_type": "code",
   "execution_count": 231,
   "metadata": {},
   "outputs": [],
   "source": [
    "df.rename(columns = {'Time (Local)': 'time'}, inplace=True)\n",
    "df.rename(columns = {'Eyeballs ': 'eyeballs'}, inplace=True)\n",
    "df.rename(columns = {'Zeroes ': 'zeroes'}, inplace=True)\n",
    "df.rename(columns = {'Requests ': 'requests'}, inplace=True)\n",
    "df.rename(columns = {'Completed Calls': 'calls'}, inplace=True)\n",
    "df.rename(columns = {'Unique Agents': 'agents'}, inplace=True)\n",
    "df.rename(columns = {'Date': 'date'}, inplace=True)"
   ]
  },
  {
   "cell_type": "code",
   "execution_count": 232,
   "metadata": {},
   "outputs": [
    {
     "data": {
      "text/plain": [
       "Index(['date', 'time', 'eyeballs', 'zeroes', 'calls', 'requests', 'agents'], dtype='object')"
      ]
     },
     "execution_count": 232,
     "metadata": {},
     "output_type": "execute_result"
    }
   ],
   "source": [
    "df.columns"
   ]
  },
  {
   "cell_type": "markdown",
   "metadata": {},
   "source": [
    "# Question 1\n",
    "\n",
    "Which date had the most completed call during the two week period?\n",
    "\n",
    "- A) 14 Sept\n",
    "- B) 15 Sept\n",
    "- C) 21 Sept\n",
    "- D) 22 Sept\n"
   ]
  },
  {
   "cell_type": "code",
   "execution_count": 233,
   "metadata": {},
   "outputs": [
    {
     "data": {
      "text/html": [
       "<div>\n",
       "<style scoped>\n",
       "    .dataframe tbody tr th:only-of-type {\n",
       "        vertical-align: middle;\n",
       "    }\n",
       "\n",
       "    .dataframe tbody tr th {\n",
       "        vertical-align: top;\n",
       "    }\n",
       "\n",
       "    .dataframe thead th {\n",
       "        text-align: right;\n",
       "    }\n",
       "</style>\n",
       "<table border=\"1\" class=\"dataframe\">\n",
       "  <thead>\n",
       "    <tr style=\"text-align: right;\">\n",
       "      <th></th>\n",
       "      <th>date</th>\n",
       "      <th>calls</th>\n",
       "    </tr>\n",
       "  </thead>\n",
       "  <tbody>\n",
       "    <tr>\n",
       "      <th>0</th>\n",
       "      <td>2012-09-22</td>\n",
       "      <td>248</td>\n",
       "    </tr>\n",
       "  </tbody>\n",
       "</table>\n",
       "</div>"
      ],
      "text/plain": [
       "        date  calls\n",
       "0 2012-09-22    248"
      ]
     },
     "execution_count": 233,
     "metadata": {},
     "output_type": "execute_result"
    }
   ],
   "source": [
    "df_date=df.groupby(['date'])[['calls']].sum().sort_values(by='calls',ascending=False).reset_index()\n",
    "max_calls=df_date['calls'].max()\n",
    "df_date[df_date['calls']==max_calls]"
   ]
  },
  {
   "cell_type": "markdown",
   "metadata": {},
   "source": [
    "answer: D (2012-09-22)"
   ]
  },
  {
   "cell_type": "markdown",
   "metadata": {},
   "source": [
    "# Question 2 \n",
    "\n",
    "What was the highest number of completed calls within a 24 hour period?\n",
    "\n",
    "- A) 311\n",
    "- B) 258\n",
    "- C) 278\n",
    "- D) 289"
   ]
  },
  {
   "cell_type": "code",
   "execution_count": 234,
   "metadata": {},
   "outputs": [
    {
     "data": {
      "text/plain": [
       "248"
      ]
     },
     "execution_count": 234,
     "metadata": {},
     "output_type": "execute_result"
    }
   ],
   "source": [
    "df_date=df.groupby(['date'])[['calls']].sum().sort_values(by='calls',ascending=False).reset_index()\n",
    "df_date['calls'].max()"
   ]
  },
  {
   "cell_type": "markdown",
   "metadata": {},
   "source": [
    "answer = 248, closest is B"
   ]
  },
  {
   "cell_type": "markdown",
   "metadata": {},
   "source": [
    "# Question 3\n",
    "Which hour of the day had the most call requests during the two week period?\n",
    "\n",
    "- A) 7am-8am\n",
    "- B) 7pm-8pm\n",
    "- C) 10pm-11pm\n",
    "- D) 11pm-12am\n"
   ]
  },
  {
   "cell_type": "code",
   "execution_count": 235,
   "metadata": {},
   "outputs": [
    {
     "data": {
      "text/html": [
       "<div>\n",
       "<style scoped>\n",
       "    .dataframe tbody tr th:only-of-type {\n",
       "        vertical-align: middle;\n",
       "    }\n",
       "\n",
       "    .dataframe tbody tr th {\n",
       "        vertical-align: top;\n",
       "    }\n",
       "\n",
       "    .dataframe thead th {\n",
       "        text-align: right;\n",
       "    }\n",
       "</style>\n",
       "<table border=\"1\" class=\"dataframe\">\n",
       "  <thead>\n",
       "    <tr style=\"text-align: right;\">\n",
       "      <th></th>\n",
       "      <th>time</th>\n",
       "      <th>requests</th>\n",
       "    </tr>\n",
       "  </thead>\n",
       "  <tbody>\n",
       "    <tr>\n",
       "      <th>0</th>\n",
       "      <td>23</td>\n",
       "      <td>184</td>\n",
       "    </tr>\n",
       "  </tbody>\n",
       "</table>\n",
       "</div>"
      ],
      "text/plain": [
       "   time  requests\n",
       "0    23       184"
      ]
     },
     "execution_count": 235,
     "metadata": {},
     "output_type": "execute_result"
    }
   ],
   "source": [
    "df_time= df.groupby(['time'])[['requests']].sum().sort_values(by='requests',ascending= False).reset_index()\n",
    "df_time_max=df_time['requests'].max()\n",
    "df_time[df_time['requests']==df_time_max]"
   ]
  },
  {
   "cell_type": "markdown",
   "metadata": {},
   "source": [
    "answer = D (11 pm = 12 Am)"
   ]
  },
  {
   "cell_type": "markdown",
   "metadata": {},
   "source": [
    "# Question 4\n",
    "\n",
    "What percentage of all zeroes during the two week period occurred on weekends (Friday at 5pm to Sunday at 3am)?\n",
    "\n",
    "- A) 45.1%\n",
    "- B) 38.7%\n",
    "- C) 44.9%\n",
    "- D) 37.0%"
   ]
  },
  {
   "cell_type": "code",
   "execution_count": 236,
   "metadata": {},
   "outputs": [],
   "source": [
    "df_new=df.copy()"
   ]
  },
  {
   "cell_type": "code",
   "execution_count": 237,
   "metadata": {},
   "outputs": [],
   "source": [
    "df_new['day'] = pd.DatetimeIndex(df_new['date']).day_name()\n",
    "df_new2=df_new"
   ]
  },
  {
   "cell_type": "code",
   "execution_count": 238,
   "metadata": {},
   "outputs": [],
   "source": [
    "df_weekend=df_new2[df_new2['day'].str.contains('Friday|Saturday|Sunday')]\n",
    "\n",
    "#finding calls on Friday after 5PM\n",
    "df_friday_after5=df_weekend[(df_weekend['day'].str.contains('Friday'))&((df_weekend['time']>=17))]\n",
    "\n",
    "#finding calls on Saturday\n",
    "df_saturday=df_weekend[(df_weekend['day'].str.contains('Saturday'))]\n",
    "\n",
    "#finding calls on Sunday after \n",
    "df_sunday_before3=df_weekend[(df_weekend['day'].str.contains('Sunday'))&((df_weekend['time']<=2))]\n"
   ]
  },
  {
   "cell_type": "code",
   "execution_count": 239,
   "metadata": {},
   "outputs": [],
   "source": [
    "df_fri_satur=df_friday_after5.append(df_saturday)\n",
    "df_fss=df_fri_satur.append(df_sunday_before3)"
   ]
  },
  {
   "cell_type": "code",
   "execution_count": 240,
   "metadata": {},
   "outputs": [
    {
     "name": "stdout",
     "output_type": "stream",
     "text": [
      "44.9\n"
     ]
    }
   ],
   "source": [
    "print(round(df_fss['zeroes'].sum()/df_new2['zeroes'].sum()*100,1))"
   ]
  },
  {
   "cell_type": "markdown",
   "metadata": {},
   "source": [
    "answer = C (44,9%)"
   ]
  },
  {
   "cell_type": "markdown",
   "metadata": {},
   "source": [
    "# Question 5\n",
    "\n",
    " In drafting an agent schedule in terms of 8 hour shifts, when are the busiest 8 consecutive hours over the two week period in terms of unique requests?"
   ]
  },
  {
   "cell_type": "markdown",
   "metadata": {},
   "source": [
    "- 7pm-3am = 19-2\n",
    "- 5pm-1am = 17-0\n",
    "- 2pm-10pm = 14-21\n",
    "- 4pm-12am = 16-23"
   ]
  },
  {
   "cell_type": "code",
   "execution_count": 241,
   "metadata": {},
   "outputs": [],
   "source": [
    "df_shift=df_new2.groupby(['time'])[['requests']].sum().reset_index().sort_values(by='requests',ascending=False)"
   ]
  },
  {
   "cell_type": "code",
   "execution_count": 242,
   "metadata": {},
   "outputs": [
    {
     "name": "stdout",
     "output_type": "stream",
     "text": [
      "Maka Jumlah Request pada Shift 19PM - 3AM adalah 1071 request\n"
     ]
    }
   ],
   "source": [
    "#Jam 19 - 3\n",
    "\n",
    "df_19_1=df_shift[(df_shift['time']>=19)|((df_shift['time']<=2))]\n",
    "print('Maka Jumlah Request pada Shift 19PM - 3AM adalah', df_19_1['requests'].sum(), 'request')\n",
    "shift191=df_19_1['requests'].sum()"
   ]
  },
  {
   "cell_type": "code",
   "execution_count": 243,
   "metadata": {},
   "outputs": [
    {
     "name": "stdout",
     "output_type": "stream",
     "text": [
      "Maka Jumlah Request pada Shift 19PM - 3AM adalah 1092 request\n"
     ]
    }
   ],
   "source": [
    "#Jam 17 - 1\n",
    "\n",
    "df_17_0=df_shift[(df_shift['time']>=17)|((df_shift['time']<=0))]\n",
    "print('Maka Jumlah Request pada Shift 19PM - 3AM adalah', df_17_0['requests'].sum(), 'request')\n",
    "shift170=df_17_0['requests'].sum()"
   ]
  },
  {
   "cell_type": "code",
   "execution_count": 244,
   "metadata": {},
   "outputs": [
    {
     "name": "stdout",
     "output_type": "stream",
     "text": [
      "Maka Jumlah Request pada Shift 19PM - 3AM adalah 816 request\n"
     ]
    }
   ],
   "source": [
    "#Jam 14 - 22\n",
    "\n",
    "df_14_21=df_shift[(df_shift['time']>=14)&((df_shift['time']<=21))]\n",
    "print('Maka Jumlah Request pada Shift 19PM - 3AM adalah', df_14_21['requests'].sum(), 'request')\n",
    "shift1421=df_14_21['requests'].sum()"
   ]
  },
  {
   "cell_type": "code",
   "execution_count": 245,
   "metadata": {},
   "outputs": [
    {
     "name": "stdout",
     "output_type": "stream",
     "text": [
      "Maka Jumlah Request pada Shift 19PM - 3AM adalah 848 request\n"
     ]
    }
   ],
   "source": [
    "#Jam 16-23\n",
    "df_16_23=df_shift[(df_shift['time']>=16)&((df_shift['time']<23))]\n",
    "print('Maka Jumlah Request pada Shift 19PM - 3AM adalah', df_16_23['requests'].sum(), 'request')\n",
    "shift1623=df_16_23['requests'].sum()"
   ]
  },
  {
   "cell_type": "code",
   "execution_count": 246,
   "metadata": {},
   "outputs": [
    {
     "data": {
      "text/html": [
       "<div>\n",
       "<style scoped>\n",
       "    .dataframe tbody tr th:only-of-type {\n",
       "        vertical-align: middle;\n",
       "    }\n",
       "\n",
       "    .dataframe tbody tr th {\n",
       "        vertical-align: top;\n",
       "    }\n",
       "\n",
       "    .dataframe thead th {\n",
       "        text-align: right;\n",
       "    }\n",
       "</style>\n",
       "<table border=\"1\" class=\"dataframe\">\n",
       "  <thead>\n",
       "    <tr style=\"text-align: right;\">\n",
       "      <th></th>\n",
       "      <th>shift</th>\n",
       "      <th>requests</th>\n",
       "    </tr>\n",
       "  </thead>\n",
       "  <tbody>\n",
       "    <tr>\n",
       "      <th>0</th>\n",
       "      <td>5PM-1AM</td>\n",
       "      <td>1092</td>\n",
       "    </tr>\n",
       "  </tbody>\n",
       "</table>\n",
       "</div>"
      ],
      "text/plain": [
       "     shift  requests\n",
       "0  5PM-1AM      1092"
      ]
     },
     "execution_count": 246,
     "metadata": {},
     "output_type": "execute_result"
    }
   ],
   "source": [
    "df_shift_combined={'shift':['7PM-3AM','5PM-1AM','2PM-10PM','4PM-12AM'],\n",
    "                  'requests':[shift191,shift170,shift1421,shift1623]}\n",
    "df_shift_all=pd.DataFrame.from_dict(df_shift_combined).sort_values(by=['requests'],ascending=False).reset_index(drop=True)\n",
    "max_req=df_shift_all['requests'].max()\n",
    "df_shift_all[df_shift_all['requests']==max_req]"
   ]
  },
  {
   "cell_type": "markdown",
   "metadata": {},
   "source": [
    "answer= B (5pm to 1 am)"
   ]
  },
  {
   "cell_type": "markdown",
   "metadata": {},
   "source": [
    "# Question 6\n",
    "\n",
    "Agent supply always increases when demand increases during the two week period, true or false?"
   ]
  },
  {
   "cell_type": "code",
   "execution_count": 247,
   "metadata": {},
   "outputs": [],
   "source": [
    "df_agent=df.groupby(['date'])[['agents']].sum().reset_index()\n",
    "df_agent['date_only']=df_agent['date'].dt.strftime(\"%m-%d\")"
   ]
  },
  {
   "cell_type": "code",
   "execution_count": 248,
   "metadata": {},
   "outputs": [
    {
     "name": "stdout",
     "output_type": "stream",
     "text": [
      "<class 'pandas.core.frame.DataFrame'>\n",
      "RangeIndex: 15 entries, 0 to 14\n",
      "Data columns (total 3 columns):\n",
      " #   Column     Non-Null Count  Dtype         \n",
      "---  ------     --------------  -----         \n",
      " 0   date       15 non-null     datetime64[ns]\n",
      " 1   agents     15 non-null     int64         \n",
      " 2   date_only  15 non-null     object        \n",
      "dtypes: datetime64[ns](1), int64(1), object(1)\n",
      "memory usage: 488.0+ bytes\n"
     ]
    }
   ],
   "source": [
    "df_agent.info()"
   ]
  },
  {
   "cell_type": "code",
   "execution_count": 249,
   "metadata": {},
   "outputs": [
    {
     "data": {
      "text/plain": [
       "Text(0.5, 0, 'Month and Date in 2012')"
      ]
     },
     "execution_count": 249,
     "metadata": {},
     "output_type": "execute_result"
    },
    {
     "data": {
      "image/png": "[encoded data removed]",
      "text/plain": [
       "<Figure size 936x360 with 1 Axes>"
      ]
     },
     "metadata": {
      "needs_background": "light"
     },
     "output_type": "display_data"
    }
   ],
   "source": [
    "plt.figure(figsize=(13, 5))\n",
    "sns.barplot(x = 'date_only', y = 'agents' , data = df_agent)\n",
    "\n",
    "plt.xlabel('Month and Date in 2012', fontsize=12)"
   ]
  },
  {
   "cell_type": "markdown",
   "metadata": {},
   "source": [
    "answer= False"
   ]
  },
  {
   "cell_type": "markdown",
   "metadata": {},
   "source": [
    "# Question 7\n",
    "\n",
    "In which 72 hour period is the ratio of Zeroes to Eyeballs the highest?\n",
    "- A) 4am 9/19 - 4am 9/22\n",
    "- B) 11am 9/20 - 11am 9/23\n",
    "- C) 5pm 9/14 - 5pm 9/17\n",
    "- D) 4am 9/16 - 4am 9/19\n"
   ]
  },
  {
   "cell_type": "code",
   "execution_count": 250,
   "metadata": {},
   "outputs": [],
   "source": [
    "df_ze=df_new2.groupby(['date','time']).sum().reset_index()"
   ]
  },
  {
   "cell_type": "code",
   "execution_count": 251,
   "metadata": {},
   "outputs": [],
   "source": [
    "#4am 9/19 - 4am 9/22\n",
    "\n",
    "df_1922=df_ze[(df_ze['date']=='2012-09-19')&(df_ze['time']>=4)].append(\n",
    "        df_ze[(df_ze['date']=='2012-09-20')|(df_ze['date']=='2012-09-21')]).append(\n",
    "        df_ze[(df_ze['date']=='2012-09-22')&(df_ze['time']<=3)]).reset_index(drop=True)\n",
    "\n",
    "eye1922=df_1922['eyeballs'].sum()\n",
    "zero1922=df_1922['zeroes'].sum()"
   ]
  },
  {
   "cell_type": "code",
   "execution_count": 252,
   "metadata": {},
   "outputs": [],
   "source": [
    "# 11am 9/20 - 11am 9/23\n",
    "\n",
    "df_2023=df_ze[(df_ze['date']=='2012-09-20')&(df_ze['time']>=11)].append(\n",
    "        df_ze[(df_ze['date']=='2012-09-21')|(df_ze['date']=='2012-09-22')]).append(\n",
    "        df_ze[(df_ze['date']=='2012-09-23')&(df_ze['time']<=10)]).reset_index(drop=True)\n",
    "\n",
    "eye2023=df_2023['eyeballs'].sum()\n",
    "zero2023=df_2023['zeroes'].sum()"
   ]
  },
  {
   "cell_type": "code",
   "execution_count": 253,
   "metadata": {},
   "outputs": [],
   "source": [
    "# 5pm 9/14 - 5pm 9/17\n",
    "\n",
    "df_1417=df_ze[(df_ze['date']=='2012-09-14')&(df_ze['time']>=17)].append(\n",
    "        df_ze[(df_ze['date']=='2012-09-15')|(df_ze['date']=='2012-09-16')]).append(\n",
    "        df_ze[(df_ze['date']=='2012-09-17')&(df_ze['time']<=16)]).reset_index(drop=True)\n",
    "\n",
    "eye1417=df_1417['eyeballs'].sum()\n",
    "zero1417=df_1417['zeroes'].sum()"
   ]
  },
  {
   "cell_type": "code",
   "execution_count": 254,
   "metadata": {},
   "outputs": [],
   "source": [
    "# 4am 9/16 - 4am 9/19\n",
    "\n",
    "df_1619=df_ze[(df_ze['date']=='2012-09-16')&(df_ze['time']>=4)].append(\n",
    "        df_ze[(df_ze['date']=='2012-09-17')|(df_ze['date']=='2012-09-18')]).append(\n",
    "        df_ze[(df_ze['date']=='2012-09-19')&(df_ze['time']<=15)]).reset_index(drop=True)\n",
    "\n",
    "eye1619=df_1619['eyeballs'].sum()\n",
    "zero1619=df_1619['zeroes'].sum()"
   ]
  },
  {
   "cell_type": "code",
   "execution_count": 255,
   "metadata": {},
   "outputs": [
    {
     "data": {
      "text/html": [
       "<div>\n",
       "<style scoped>\n",
       "    .dataframe tbody tr th:only-of-type {\n",
       "        vertical-align: middle;\n",
       "    }\n",
       "\n",
       "    .dataframe tbody tr th {\n",
       "        vertical-align: top;\n",
       "    }\n",
       "\n",
       "    .dataframe thead th {\n",
       "        text-align: right;\n",
       "    }\n",
       "</style>\n",
       "<table border=\"1\" class=\"dataframe\">\n",
       "  <thead>\n",
       "    <tr style=\"text-align: right;\">\n",
       "      <th></th>\n",
       "      <th>date_and_time</th>\n",
       "      <th>eyeball_Total</th>\n",
       "      <th>zeroes_Total</th>\n",
       "      <th>zeroes_%</th>\n",
       "    </tr>\n",
       "  </thead>\n",
       "  <tbody>\n",
       "    <tr>\n",
       "      <th>0</th>\n",
       "      <td>5PM 9/14 - 5PM 9/17</td>\n",
       "      <td>1742</td>\n",
       "      <td>441</td>\n",
       "      <td>25.315729</td>\n",
       "    </tr>\n",
       "  </tbody>\n",
       "</table>\n",
       "</div>"
      ],
      "text/plain": [
       "         date_and_time  eyeball_Total  zeroes_Total   zeroes_%\n",
       "0  5PM 9/14 - 5PM 9/17           1742           441  25.315729"
      ]
     },
     "execution_count": 255,
     "metadata": {},
     "output_type": "execute_result"
    }
   ],
   "source": [
    "df_all={'date_and_time':['4AM 9/19 - 4AM 9/22','11AM 9/20 - 11AM 9/23','5PM 9/14 - 5PM 9/17','4PM 9/16 - 4PM 9/19'],\n",
    "   'eyeball_Total':[eye1922,eye2023,eye1417,eye1619],\n",
    "   'zeroes_Total':[zero1922,zero2023,zero1417,zero1619],\n",
    "   'zeroes_%':[zero1922/eye1922*100,zero2023/eye2023*100,zero1417/eye1417*100,zero1619/eye1619*100]}\n",
    "\n",
    "df_all72=pd.DataFrame.from_dict(df_all).sort_values(by='zeroes_%',ascending=False).reset_index(drop=True)\n",
    "\n",
    "max_percent= df_all72['zeroes_%'].max()\n",
    "df_all72[df_all72['zeroes_%']==max_percent]"
   ]
  },
  {
   "cell_type": "markdown",
   "metadata": {},
   "source": [
    "answer = C (5PM 9/14 - 5PM 9/17)"
   ]
  },
  {
   "cell_type": "markdown",
   "metadata": {},
   "source": [
    "# Question 8\n",
    "\n",
    "If you could add 5 agents to any single hour every day during the two week period, which hour should you add them to?\n",
    " \n",
    "Hint: Consider both potential caller eyeballs and agent supply when choosing\n",
    "- A) 5pm - 6pm\n",
    "- B) 9pm - 10pm\n",
    "- C) 11pm - 12am\n",
    "- D) 5am - 6am\n",
    "\n",
    "\n"
   ]
  },
  {
   "cell_type": "code",
   "execution_count": 257,
   "metadata": {},
   "outputs": [
    {
     "data": {
      "text/html": [
       "<div>\n",
       "<style scoped>\n",
       "    .dataframe tbody tr th:only-of-type {\n",
       "        vertical-align: middle;\n",
       "    }\n",
       "\n",
       "    .dataframe tbody tr th {\n",
       "        vertical-align: top;\n",
       "    }\n",
       "\n",
       "    .dataframe thead th {\n",
       "        text-align: right;\n",
       "    }\n",
       "</style>\n",
       "<table border=\"1\" class=\"dataframe\">\n",
       "  <thead>\n",
       "    <tr style=\"text-align: right;\">\n",
       "      <th></th>\n",
       "      <th>time</th>\n",
       "      <th>eyeballs</th>\n",
       "      <th>agents</th>\n",
       "      <th>agents_eyeballs%</th>\n",
       "    </tr>\n",
       "  </thead>\n",
       "  <tbody>\n",
       "    <tr>\n",
       "      <th>0</th>\n",
       "      <td>5</td>\n",
       "      <td>42</td>\n",
       "      <td>11</td>\n",
       "      <td>26.190476</td>\n",
       "    </tr>\n",
       "  </tbody>\n",
       "</table>\n",
       "</div>"
      ],
      "text/plain": [
       "   time  eyeballs  agents  agents_eyeballs%\n",
       "0     5        42      11         26.190476"
      ]
     },
     "execution_count": 257,
     "metadata": {},
     "output_type": "execute_result"
    }
   ],
   "source": [
    "df_time_all=df.groupby(['time'])[['eyeballs','agents']].sum().sort_values(by='eyeballs', ascending=True).reset_index()\n",
    "df_time_all2=df_time_all[(df_time_all['time']==5)|(df_time_all['time']==9)|(df_time_all['time']==11)|(df_time_all['time']==17)].reset_index(drop=True)\n",
    "\n",
    "df_time_all2['agents_eyeballs%']=df_time_all2['agents']/df_time_all2['eyeballs']*100\n",
    "\n",
    "agent_eye_min=df_time_all2['agents_eyeballs%'].min()\n",
    "\n",
    "df_time_all2[df_time_all2['agents_eyeballs%']==agent_eye_min]"
   ]
  },
  {
   "cell_type": "markdown",
   "metadata": {},
   "source": [
    "answer = A (5AM to 6 AM)"
   ]
  },
  {
   "cell_type": "markdown",
   "metadata": {},
   "source": [
    "# Question 9\n",
    "\n",
    "Looking at the data from all two weeks, which time might make the most sense to consider a true \"end of day\" instead of midnight? \n",
    "(i.e., when are supply and demand both at natural minimums)\n",
    "\n",
    "\n",
    "Tip: Visualize the data to confirm your answer if needed\n",
    "- A) 11pm\n",
    "- B) 2am\n",
    "- C) 4am\n",
    "- D) 7am\n"
   ]
  },
  {
   "cell_type": "code",
   "execution_count": 211,
   "metadata": {},
   "outputs": [],
   "source": [
    "df_time_all\n",
    "df_tertentu=df_time_all[(df_time_all['time']==23)|(df_time_all['time']==2)|(df_time_all['time']==4)|(df_time_all['time']==7)].reset_index(drop=True)"
   ]
  },
  {
   "cell_type": "code",
   "execution_count": 212,
   "metadata": {},
   "outputs": [
    {
     "name": "stdout",
     "output_type": "stream",
     "text": [
      "<class 'pandas.core.frame.DataFrame'>\n",
      "RangeIndex: 4 entries, 0 to 3\n",
      "Data columns (total 3 columns):\n",
      " #   Column    Non-Null Count  Dtype \n",
      "---  ------    --------------  ----- \n",
      " 0   time      4 non-null      object\n",
      " 1   eyeballs  4 non-null      int64 \n",
      " 2   agents    4 non-null      int64 \n",
      "dtypes: int64(2), object(1)\n",
      "memory usage: 224.0+ bytes\n"
     ]
    }
   ],
   "source": [
    "df_tertentu['time']=df_tertentu['time'].astype(str)\n",
    "df_tertentu.info()"
   ]
  },
  {
   "cell_type": "code",
   "execution_count": 258,
   "metadata": {},
   "outputs": [
    {
     "data": {
      "image/png": "[encoded data removed]",
      "text/plain": [
       "<Figure size 432x288 with 1 Axes>"
      ]
     },
     "metadata": {
      "needs_background": "light"
     },
     "output_type": "display_data"
    }
   ],
   "source": [
    "#creating plot\n",
    "width = 0.8  \n",
    "x=df_tertentu['time']\n",
    "y=df_tertentu['eyeballs']\n",
    "y2=df_tertentu['agents']\n",
    "plt.bar(x='time', width=width,height='eyeballs',label = 'Eyeballs',data=df_tertentu)\n",
    "plt.bar(x='time',width=width,height='agents', label = 'Agents',data=df_tertentu)\n",
    "\n",
    "x_numbers = range(len(x))\n",
    "for i in x_numbers:\n",
    "    plt.text(x = x_numbers[i], y = y[i]+0.5, s = str(y[i]), size = 12, ha='center')\n",
    "    \n",
    "for i in x_numbers:\n",
    "    plt.text(x = x_numbers[i], y = y2[i]+0.5, s = str(y2[i]), size = 12, ha='center')\n",
    "    \n",
    "plt.xlabel(\"Times(Ordered from lowest to highest Eyeballs and Agents)\")\n",
    "plt.ylabel(\"Number of Eyeballs and Agents\")\n",
    "plt.title(\"Eyeballs and Agent Comparison\")\n",
    "plt.legend()\n",
    "plt.show()"
   ]
  },
  {
   "cell_type": "markdown",
   "metadata": {},
   "source": [
    "answer= C (4 AM)"
   ]
  }
 ],
 "metadata": {
  "kernelspec": {
   "display_name": "Python 3",
   "language": "python",
   "name": "python3"
  },
  "language_info": {
   "codemirror_mode": {
    "name": "ipython",
    "version": 3
   },
   "file_extension": ".py",
   "mimetype": "text/x-python",
   "name": "python",
   "nbconvert_exporter": "python",
   "pygments_lexer": "ipython3",
   "version": "3.8.5"
  }
 },
 "nbformat": 4,
 "nbformat_minor": 4
}
